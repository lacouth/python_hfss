{
 "cells": [
  {
   "cell_type": "code",
   "execution_count": 110,
   "id": "d1e1673d-16ad-46f1-8419-0ee599d7680d",
   "metadata": {},
   "outputs": [],
   "source": [
    "import win32com.client"
   ]
  },
  {
   "cell_type": "code",
   "execution_count": 111,
   "id": "47f451f8-1578-4e90-b74e-731d4d697e02",
   "metadata": {},
   "outputs": [],
   "source": [
    "import numpy as np\n",
    "import matplotlib.pyplot as plt"
   ]
  },
  {
   "cell_type": "code",
   "execution_count": 112,
   "id": "3ebc7727-158c-4f53-9561-15d5fc7d3282",
   "metadata": {},
   "outputs": [],
   "source": [
    "hfssApp = win32com.client.Dispatch(\"AnsoftHfss.HfssScriptInterface\")"
   ]
  },
  {
   "cell_type": "code",
   "execution_count": 113,
   "id": "d45b0ae2-31ff-4f64-ba78-968cf86e06f2",
   "metadata": {},
   "outputs": [],
   "source": [
    "desktop = hfssApp.getAppDesktop()\n"
   ]
  },
  {
   "cell_type": "code",
   "execution_count": 114,
   "id": "1f26112b-e5d5-40bb-85d2-361302bf4a5a",
   "metadata": {},
   "outputs": [
    {
     "data": {
      "text/plain": [
       "<COMObject InsertDesign>"
      ]
     },
     "execution_count": 114,
     "metadata": {},
     "output_type": "execute_result"
    }
   ],
   "source": [
    "desktop.RestoreWindow()\n",
    "projeto = desktop.NewProject()\n",
    "projeto.InsertDesign('HFSS','HFSSDesign1', 'DrivenModal', '')"
   ]
  },
  {
   "cell_type": "code",
   "execution_count": 115,
   "id": "40aa6acd-6227-4343-8ef2-32b5ed2aae52",
   "metadata": {},
   "outputs": [],
   "source": [
    "design = projeto.SetActiveDesign('HFSSDesign1')\n",
    "radiation = design.GetModule('RadField')\n",
    "editor = design.SetActiveEditor('3D Modeler')\n",
    "module = design.GetModule('BoundarySetup')\n",
    "setup = design.GetModule('AnalysisSetup')\n",
    "report = design.GetModule('ReportSetup')\n",
    "mesh = design.GetModule('MeshSetup')\n",
    "outputVariable = design.GetModule('OutputVariable')"
   ]
  },
  {
   "cell_type": "code",
   "execution_count": 116,
   "id": "4c69f26e-e9be-4bb1-b5e1-78ef4d162826",
   "metadata": {},
   "outputs": [],
   "source": [
    "step = 0.01\n",
    "freq = np.arange(1,5+step,step)\n",
    "freqAnalise = freq[-1]"
   ]
  },
  {
   "cell_type": "code",
   "execution_count": 117,
   "id": "b15ed6f0-9867-4524-979f-38799c32206f",
   "metadata": {},
   "outputs": [
    {
     "data": {
      "text/plain": [
       "'Dieletrico'"
      ]
     },
     "execution_count": 117,
     "metadata": {},
     "output_type": "execute_result"
    }
   ],
   "source": [
    "editor.CreateBox(['NAME:BoxParameters', 'XPosition:=', '-59.59mm', 'YPosition:=','49.25mm',\n",
    "                   'ZPosition:=', '0mm','XSize:=', '110mm', 'YSize:=', '-98.5mm', 'ZSize:=','-1.57mm'],\n",
    "                 ['NAME:Attributes', 'Name:=', 'Dieletrico', 'Flags:=', '', 'Color:=', '(132 132 193)',\n",
    "                  'Transparency:=', 1 , 'PartCoordinateSystem:=', 'Global', 'UDMId:=','',\n",
    "                  'MaterialValue:=', '\"FR4_epoxy\"', 'SolveInside:=', 1])"
   ]
  },
  {
   "cell_type": "code",
   "execution_count": 118,
   "id": "a6fbff7a-4279-4696-aab3-6cc14384587c",
   "metadata": {},
   "outputs": [
    {
     "data": {
      "text/plain": [
       "'transformador'"
      ]
     },
     "execution_count": 118,
     "metadata": {},
     "output_type": "execute_result"
    }
   ],
   "source": [
    "editor.CreateRectangle( ['NAME:RectangleParameters', 'IsCovered:=', 1, 'XStart:=', '-20mm',\n",
    "                         'YStart:=', '0.25mm', 'ZStart:=', '0mm','Width:=', '-24.6mm',\n",
    "                         'Height:=', '-0.5mm', 'WhichAxis:=', 'Z'],\n",
    "                       ['NAME:Attributes', 'Name:=', 'transformador', 'Flags:=','',\n",
    "                        'Color:=', '(132 132 193)', 'Transparency:=', 0, \n",
    "                        'PartCoordinateSystem:=','Global', 'UDMId:=', '', 'MaterialValue:=', '', \n",
    "                        'SolveInside:=',1])"
   ]
  },
  {
   "cell_type": "code",
   "execution_count": 119,
   "id": "94cc31a1-56a4-42d8-930a-1f4c5a6dc440",
   "metadata": {},
   "outputs": [
    {
     "data": {
      "text/plain": [
       "'feed'"
      ]
     },
     "execution_count": 119,
     "metadata": {},
     "output_type": "execute_result"
    }
   ],
   "source": [
    "editor.CreateRectangle( ['NAME:RectangleParameters', 'IsCovered:=', 1, 'XStart:=', '-44.59mm',\n",
    "                         'YStart:=', '2.42mm', 'ZStart:=', '0mm', 'Width:=', '-15mm',\n",
    "                         'Height:=', '-4.84mm', 'WhichAxis:=', 'Z'],\n",
    "                       ['NAME:Attributes', 'Name:=', 'feed', 'Flags:=','', 'Color:=', '(132 132 193)',\n",
    "                        'Transparency:=', 0, 'PartCoordinateSystem:=','Global', 'UDMId:=', '',\n",
    "                        'MaterialValue:=', '', 'SolveInside:=',1])"
   ]
  },
  {
   "cell_type": "code",
   "execution_count": 120,
   "id": "50e01915-cbe1-4fec-a3a2-f4a95ccf0ffc",
   "metadata": {},
   "outputs": [
    {
     "data": {
      "text/plain": [
       "'patch'"
      ]
     },
     "execution_count": 120,
     "metadata": {},
     "output_type": "execute_result"
    }
   ],
   "source": [
    "patch = [40,40]\n",
    "editor.CreateRectangle( ['NAME:RectangleParameters', 'IsCovered:=', 1, \n",
    "                         'XStart:=', str(-patch[0]/2)+'mm', \n",
    "                         'YStart:=', str(-patch[1]/2)+'mm', 'ZStart:=', '0mm',\n",
    "                         'Width:=', str(patch[0])+'mm',\n",
    "                         'Height:=', str(patch[1])+'mm', 'WhichAxis:=', 'Z'],\n",
    "                       ['NAME:Attributes', 'Name:=', 'patch', 'Flags:=','', 'Color:=','(132 132 193)',\n",
    "                        'Transparency:=', 0, 'PartCoordinateSystem:=','Global', 'UDMId:=', '',\n",
    "                        'MaterialValue:=', '', 'SolveInside:=',1])"
   ]
  },
  {
   "cell_type": "code",
   "execution_count": 121,
   "id": "def6b871-31d7-4113-b133-47405cab664a",
   "metadata": {},
   "outputs": [
    {
     "data": {
      "text/plain": [
       "'porta'"
      ]
     },
     "execution_count": 121,
     "metadata": {},
     "output_type": "execute_result"
    }
   ],
   "source": [
    "editor.CreateRectangle( ['NAME:RectangleParameters', 'IsCovered:=', 1, 'XStart:=', '-59.59mm',\n",
    "                         'YStart:=', '-25mm', 'ZStart:=', '-1.57mm','Width:=', '50mm', \n",
    "                         'Height:=', '15mm', 'WhichAxis:=', 'X'], \n",
    "                         ['NAME:Attributes', 'Name:=', 'porta', 'Flags:=','', 'Color:=','(132 132 193)',\n",
    "                          'Transparency:=', 0, 'PartCoordinateSystem:=','Global', 'UDMId:=', '', \n",
    "                          'MaterialValue:=', '', 'SolveInside:=',1])"
   ]
  },
  {
   "cell_type": "code",
   "execution_count": 122,
   "id": "9984082a-3101-45af-971d-7dba42138162",
   "metadata": {},
   "outputs": [
    {
     "data": {
      "text/plain": [
       "'Celula'"
      ]
     },
     "execution_count": 122,
     "metadata": {},
     "output_type": "execute_result"
    }
   ],
   "source": [
    "editor.CreateBox( ['NAME:BoxParameters', 'XPosition:=', '50.41mm', 'YPosition:=','49.25mm',\n",
    "                   'ZPosition:=', '-31.25mm','XSize:=', '-110mm', 'YSize:=', '-98.5mm',\n",
    "                   'ZSize:=','62.5mm'],\n",
    "                 ['NAME:Attributes', 'Name:=', 'Celula', 'Flags:=', '', 'Color:=', '(132 132 193)',\n",
    "                  'Transparency:=', 1 , 'PartCoordinateSystem:=', 'Global', 'UDMId:=','',\n",
    "                  'MaterialValue:=', '\"vacuum\"', 'SolveInside:=', 1])"
   ]
  },
  {
   "cell_type": "code",
   "execution_count": 123,
   "id": "6a8600f2-8b09-43fb-82b3-629b0bf95cde",
   "metadata": {},
   "outputs": [],
   "source": [
    "module.AssignWavePort(['NAME:1', 'Objects:=', ['porta'], 'NumModes:=', 1, \n",
    "                       'RenormalizeAllTerminals:=', 1, 'UseLineAlignment:=', 0,\n",
    "                       'DoDeembed:=', 0,\n",
    "                       ['NAME:Modes', ['NAME:Mode1', 'ModeNum:=',1, 'UseIntLine:=', 0]],\n",
    "                       'ShowReporterFilter:=', 0, 'ReporterFilter:=', [1],\n",
    "                       'UseAnalyticAlignment:=', 0])"
   ]
  },
  {
   "cell_type": "code",
   "execution_count": 124,
   "id": "22d33789-5db7-4249-a9e4-ac8af912fe4e",
   "metadata": {},
   "outputs": [],
   "source": [
    "module.AssignRadiation(['NAME:Rad1', 'Faces:=', [83,84,85, 86, 87, 88], 'IsIncidentField:=', 0,\n",
    "                        'IsEnforcedField:=', 0, 'IsFssReference:=', 0, 'IsForPML:=',0,\n",
    "                        'UseAdaptiveIE:=', 0, 'IncludeInPostproc:=', 1])"
   ]
  },
  {
   "cell_type": "code",
   "execution_count": 125,
   "id": "40ec40eb-0332-4ed0-ad09-957010bc25a6",
   "metadata": {},
   "outputs": [
    {
     "data": {
      "text/plain": [
       "'terra'"
      ]
     },
     "execution_count": 125,
     "metadata": {},
     "output_type": "execute_result"
    }
   ],
   "source": [
    "editor.CreateRectangle( ['NAME:RectangleParameters', 'IsCovered:=', 1, 'XStart:=', '-59.59mm',\n",
    "                         'YStart:=', '49.25mm', 'ZStart:=', '-1.57mm', 'Width:=', '110mm',\n",
    "                         'Height:=', '-98.5mm', 'WhichAxis:=', 'Z'],\n",
    "                       ['NAME:Attributes', 'Name:=', 'terra', 'Flags:=','', 'Color:=','(132 132 193)',\n",
    "                        'Transparency:=', 0, 'PartCoordinateSystem:=','Global', 'UDMId:=', '',\n",
    "                        'MaterialValue:=', '', 'SolveInside:=',1])"
   ]
  },
  {
   "cell_type": "code",
   "execution_count": 126,
   "id": "944e56b2-ed46-4c2c-9ea7-de726c445895",
   "metadata": {},
   "outputs": [],
   "source": [
    "editor.Unite(['NAME:Selections', 'Selections:=', 'patch,transformador,feed'],\n",
    "             ['NAME:UniteParameters', 'KeepOriginals:=',0])"
   ]
  },
  {
   "cell_type": "code",
   "execution_count": 127,
   "id": "0781348c-c00f-4cd4-a91c-0e8c0ce21c9d",
   "metadata": {},
   "outputs": [],
   "source": [
    "module.AssignFiniteCond(['NAME:FiniteCond1', 'Objects:=', ['patch'],\n",
    "                         'UseMaterial:=',1, 'Material:=', 'copper', 'Roughness:=', '0um',\n",
    "                         'UseThickness:=', 0, 'InfGroundPlane:=', 0])"
   ]
  },
  {
   "cell_type": "code",
   "execution_count": 128,
   "id": "d79b8636-79da-4daf-87d2-6771355d323a",
   "metadata": {},
   "outputs": [],
   "source": [
    "module.AssignFiniteCond(['NAME:FiniteCond2', 'Objects:=', ['terra'],\n",
    "                         'UseMaterial:=',1, 'Material:=', 'copper', 'Roughness:=', '0um',\n",
    "                         'UseThickness:=', 0,'InfGroundPlane:=', 0])"
   ]
  },
  {
   "cell_type": "code",
   "execution_count": 129,
   "id": "19ba181c-6bb0-481c-b294-2edc06b00297",
   "metadata": {},
   "outputs": [],
   "source": [
    "mesh.AssignLengthOp(['NAME:Length1', 'RefineInside:=', 1, 'Enabled:=',1, 'Objects:=', ['Celula'],\n",
    "                     'RestrictElem:=', 0, 'NumMaxElem:=', '1000', 'RestrictLength:=', 1,\n",
    "                     'MaxLength:=', '12.5mm'])"
   ]
  },
  {
   "cell_type": "code",
   "execution_count": 130,
   "id": "66fcfd16-4e35-4c40-9fc1-a0b1db7a2022",
   "metadata": {},
   "outputs": [],
   "source": [
    "setup.InsertSetup( 'HfssDriven', ['NAME:Setup1', 'Frequency:=', str(freqAnalise)+'GHz',\n",
    "                                  'MaxDeltaS:=', 0.25, 'UseMatrixConv:=', 0, 'MaximumPasses:=', 10,\n",
    "                                  'MinimumPasses:=', 1, 'MinimumConvergedPasses:=', 1,\n",
    "                                  'PercentRefinement:=', 50, 'IsEnabled:=', 1, 'BasisOrder:=', 1,\n",
    "                                  'UseIterativeSolver:=', 0, 'DoLambdaRefine:=', 1, \n",
    "                                  'DoMaterialLambda:=', 1, 'SetLambdaTarget:=',0, 'Target:=', 0.3333,\n",
    "                                  'UseMaxTetIncrease:=', 0, 'EnableSolverDomains:=',0,\n",
    "                                  'ThermalFeedback:=', 0, 'NoAdditionalRefinementOnImport:=', 0])"
   ]
  },
  {
   "cell_type": "code",
   "execution_count": 131,
   "id": "dedac114-29c6-4862-a061-ad51552303c3",
   "metadata": {},
   "outputs": [],
   "source": [
    "setup.InsertFrequencySweep( 'Setup1', ['NAME:Sweep', 'IsEnabled:=', 1, 'SetupType:=', 'LinearCount',\n",
    "                                       'StartValue:=', str(freq[0])+'GHz', \n",
    "                                       'StopValue:=', str(freq[-1])+'GHz','Count:=', len(freq),\n",
    "                                       'Type:=', 'Fast', 'SaveFields:=', 1, 'InterpTolerance:=', 0.5,\n",
    "                                       'InterpMaxSolns:=', 250, 'InterpMinSolns:=', 0,\n",
    "                                       'InterpMinSubranges:=', 1,'ExtrapToDC:=', 0, 'InterpUseS:=', 1,\n",
    "                                       'InterpUsePortImped:=', 0, 'InterpUsePropConst:=', 0,\n",
    "                                       'UseDerivativeConvergence:=', 0,\n",
    "                                       'InterpDerivTolerance:=', 0.2, 'UseFullBasis:=', 1])"
   ]
  },
  {
   "cell_type": "code",
   "execution_count": 132,
   "id": "826aa11c-5655-446d-9747-3e575ee6a295",
   "metadata": {},
   "outputs": [],
   "source": [
    "radiation.InsertFarFieldSphereSetup(['NAME:Sphere1', 'UseCustomRadiationSurface:=',0,\n",
    "                                     'ThetaStart:=', '-180deg', 'ThetaStop:=', '180deg',\n",
    "                                     'ThetaStep:=', '1deg', 'PhiStart:=','0deg', \n",
    "                                     'PhiStop:=', '90deg', 'PhiStep:=', '90deg', 'UseLocalCS:=', 0])"
   ]
  },
  {
   "cell_type": "code",
   "execution_count": 133,
   "id": "263d491a-050f-4af8-84d4-19da25663510",
   "metadata": {},
   "outputs": [],
   "source": [
    "design.Analyze('Setup1')"
   ]
  },
  {
   "cell_type": "code",
   "execution_count": 134,
   "id": "7449c5d4-45b7-4c71-a789-d8f96823ed1f",
   "metadata": {},
   "outputs": [],
   "source": [
    "outputVariable.CreateOutputVariable(\"S11_python\", \"db(S(1,1))\", \"Setup1 : LastAdaptive\", \"Modal Solution Data\", [])"
   ]
  },
  {
   "cell_type": "code",
   "execution_count": 135,
   "id": "b8fe1a00-1a0d-44bd-9b56-53bfc40dff31",
   "metadata": {},
   "outputs": [],
   "source": [
    "hfss_design = projeto.GetDesign ('HfssDesign1')\n",
    "result = hfss_design.GetModule('OutputVariable')"
   ]
  },
  {
   "cell_type": "code",
   "execution_count": 136,
   "id": "f4f184b9-8c58-4a86-8c98-257e91f665e6",
   "metadata": {},
   "outputs": [],
   "source": [
    "S11 = np.zeros_like(freq)\n",
    "for i in range(len(freq)):\n",
    "    S11[i] = result.GetOutputVariableValue('S11_python', 'Freq = '+str(freq[i])+'Ghz' ,\n",
    "                                           'Setup1 : Sweep', 'Modal Solution Data','')"
   ]
  },
  {
   "cell_type": "code",
   "execution_count": 137,
   "id": "f631518b-8c50-48fc-b3ab-a77bd7673f8b",
   "metadata": {},
   "outputs": [
    {
     "data": {
      "image/png": "[encoded data removed]",
      "text/plain": [
       "<Figure size 640x480 with 1 Axes>"
      ]
     },
     "metadata": {},
     "output_type": "display_data"
    }
   ],
   "source": [
    "plt.plot(freq,S11)\n",
    "plt.xlabel('Freq - GHz')\n",
    "plt.ylabel('S11 - dB')\n",
    "plt.grid()\n",
    "plt.show()"
   ]
  },
  {
   "cell_type": "code",
   "execution_count": 109,
   "id": "dc56b437-b28c-4d97-b182-c3c0cca3c623",
   "metadata": {},
   "outputs": [],
   "source": [
    "projeto.DeleteDesign('HFSSDesign1');\n",
    "desktop.DeleteProject('Project1');\n",
    "projeto.release;"
   ]
  },
  {
   "cell_type": "code",
   "execution_count": null,
   "id": "1a9bf3d8-af25-4d4a-be8e-25f5d67ae05b",
   "metadata": {},
   "outputs": [],
   "source": []
  }
 ],
 "metadata": {
  "kernelspec": {
   "display_name": "Python 3 (ipykernel)",
   "language": "python",
   "name": "python3"
  },
  "language_info": {
   "codemirror_mode": {
    "name": "ipython",
    "version": 3
   },
   "file_extension": ".py",
   "mimetype": "text/x-python",
   "name": "python",
   "nbconvert_exporter": "python",
   "pygments_lexer": "ipython3",
   "version": "3.13.0"
  }
 },
 "nbformat": 4,
 "nbformat_minor": 5
}
